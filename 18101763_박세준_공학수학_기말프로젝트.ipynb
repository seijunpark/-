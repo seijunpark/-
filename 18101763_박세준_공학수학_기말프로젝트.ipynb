{
  "nbformat": 4,
  "nbformat_minor": 0,
  "metadata": {
    "colab": {
      "name": "18101763 박세준 공학수학 기말프로젝트.ipynb",
      "provenance": [],
      "include_colab_link": true
    },
    "kernelspec": {
      "name": "python3",
      "display_name": "Python 3"
    }
  },
  "cells": [
    {
      "cell_type": "markdown",
      "metadata": {
        "id": "view-in-github",
        "colab_type": "text"
      },
      "source": [
        "<a href=\"https://colab.research.google.com/github/seijunpark/-/blob/master/18101763_%EB%B0%95%EC%84%B8%EC%A4%80_%EA%B3%B5%ED%95%99%EC%88%98%ED%95%99_%EA%B8%B0%EB%A7%90%ED%94%84%EB%A1%9C%EC%A0%9D%ED%8A%B8.ipynb\" target=\"_parent\"><img src=\"https://colab.research.google.com/assets/colab-badge.svg\" alt=\"Open In Colab\"/></a>"
      ]
    },
    {
      "cell_type": "markdown",
      "metadata": {
        "id": "iPu9U-KU4xRs",
        "colab_type": "text"
      },
      "source": [
        "# 1. **구 좌표계에서의 라플라스 방정식**\n",
        "\n"
      ]
    },
    {
      "cell_type": "markdown",
      "metadata": {
        "id": "aoy1r8Y64NeD",
        "colab_type": "text"
      },
      "source": [
        "We consider the boundary value problem\n",
        "\n",
        ">$\\begin{align*}\n",
        " u_{rr} +\\frac{2}{r} u_r &+\\frac{1}{r^2}u_{\\phi\\phi} +\\frac{\\cot\\phi}{r^2} u_{\\phi} +\\frac{1}{r^2\\sin^2\\phi}u_{\\theta\\theta} = 0, \\;\\; r < R \\\\ \n",
        " u(R,\\phi,\\theta) &= g(\\phi,\\theta)\\\\ \n",
        "\\end{align*}$\n",
        "\n",
        "in a sphere of radius $R$. (a) Solve this problem by separation of variables, (b) derive $K(r,\\phi,\\theta; R,\\varphi,\\vartheta)$ in the equivalent integral formula:\n",
        "\n",
        ">$\\displaystyle u(r,\\phi,\\theta) = \\int_0^{2\\pi} \\int_0^\\pi K(r,\\phi,\\theta; R,\\varphi,\\vartheta)\\, g(\\varphi,\\vartheta) \\sin\\varphi \\,d\\varphi \\, d\\vartheta$"
      ]
    },
    {
      "cell_type": "markdown",
      "metadata": {
        "id": "-ymYZEIj5Vjz",
        "colab_type": "text"
      },
      "source": [
        "구 좌표계에서의 라플라스 방정식으로, 변수는 r, ϕ, θ 로 이루어져 있다."
      ]
    },
    {
      "cell_type": "markdown",
      "metadata": {
        "id": "UqxVu6wY6MGc",
        "colab_type": "text"
      },
      "source": [
        "**1-1** 변수 분리법을 이용하여 문제를 푸시오."
      ]
    },
    {
      "cell_type": "markdown",
      "metadata": {
        "id": "fgJ9SvSf7hnV",
        "colab_type": "text"
      },
      "source": [
        "$$u(r, \\phi , \\theta )=L(r)T( \\phi )A( \\theta )$$\n",
        "라고 하면 , 위의 방정식은\n",
        "$$L '' TA+ 2/r L' TA+ 1/r ^{2} LT '' A+ cot (\\phi)/{r ^{2}} LT''A+ {1}/{r ^{2} sin ^{2}( \\phi) } LTA '' =0$$\n",
        "로 나타낼 수 있다. 양변을 LTA 로 나누고 식을 정리한다. 이때 문제의 조건을 고려할 때 initial conditioncondition에서 $$u(R,\\phi, \\theta)=g(\\phi,\\theta)$$ 이므로 $$r=R$$일때의 관계식으로 설정한 후 변수 분리를 해보자. $$L',L''$$은 모두 0 이되므로\n",
        "$$T''A+cot\\phi T'A+\\frac{1}{sin^2\\phi}TA''=0$$\n",
        "이상태에서 변수분리법을 계속 적용 해보면\n",
        "$$T''+cot\\phi T'+\\lambda T=0$$\n",
        "$$A''-\\lambda sin^{2}\\phi A=0$$ 인 두 식을 얻을 수 있다. 각각을 풀면\n",
        "$$T(\\phi)=c_1 P_{\\frac{1}{2} \\sqrt{4\\lambda+1}-1}+c_2 Q_{\\frac{1}{2} (\\sqrt{4\\lambda+1}-1)} cos\\phi$$\n",
        "$$A(\\theta)=c_1 e^{\\sqrt{\\lambda sin^2 \\phi} \\theta} +c_2 e^{-\\sqrt{\\lambda sin^2 \\phi} \\theta}$$"
      ]
    },
    {
      "cell_type": "markdown",
      "metadata": {
        "id": "vseuPPe56J1E",
        "colab_type": "text"
      },
      "source": [
        "이를 관계식에 다시 대입한 후, 나머지 $$L(r)$$ 마저 구하면 된다."
      ]
    },
    {
      "cell_type": "markdown",
      "metadata": {
        "id": "F7hNrk1z6ijO",
        "colab_type": "text"
      },
      "source": [
        "# **2. 구 좌표계에서의 포아송 방정식**"
      ]
    },
    {
      "cell_type": "markdown",
      "metadata": {
        "id": "adji48Lnx5jS",
        "colab_type": "text"
      },
      "source": [
        "We consider the problem\n",
        "\n",
        ">$\\begin{align*}\n",
        " u_{rr} +\\frac{2}{r} u_r &+\\frac{1}{r^2}u_{\\phi\\phi} +\\frac{\\cot\\phi}{r^2} u_{\\phi} +\\frac{1}{r^2\\sin^2\\phi}u_{\\theta\\theta} = -F(r,\\phi,\\theta), \\;\\; r < R \\\\ \n",
        " u(R,\\phi,\\theta) &= 0\\\\ \n",
        "\\end{align*}$\n",
        "\n",
        "(a) solve by taking the finite Fourier Transforms, (b) derive $G(r,\\phi,\\theta; \\rho,\\varphi,\\vartheta)$ in the equivalent integral formula:\n",
        "\n",
        ">$\\displaystyle u(r,\\phi,\\theta) = \\int_0^{2\\pi} \\int_0^\\pi \\int_0^R G(r,\\phi,\\theta; \\rho,\\varphi,\\vartheta)\\, F(\\rho, \\varphi,\\vartheta) \\,\\rho^2 \\sin\\varphi \\,d\\rho \\,d\\varphi \\, d\\vartheta$"
      ]
    },
    {
      "cell_type": "markdown",
      "metadata": {
        "id": "pmpP7I1ZJF5b",
        "colab_type": "text"
      },
      "source": [
        "**2-1** 유한구간에서의 푸리에 변환으로 문제를 푸시오"
      ]
    },
    {
      "cell_type": "markdown",
      "metadata": {
        "id": "mdEmt4UOJmlA",
        "colab_type": "text"
      },
      "source": [
        "해당 equiation은 비재차 형태를 띄고 있기 때문에 곧바로 변수 분리법을 사용할 수 없다. 따라서 우선 푸리에 변환을 이용한다. "
      ]
    },
    {
      "cell_type": "markdown",
      "metadata": {
        "id": "3DqZlsQCZYd-",
        "colab_type": "text"
      },
      "source": [
        "**(죄송합니다 어떻게 풀지 모르겠습니다)**"
      ]
    }
  ]
}